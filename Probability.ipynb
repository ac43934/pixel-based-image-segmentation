{
 "cells": [
  {
   "cell_type": "code",
   "execution_count": 2,
   "metadata": {
    "scrolled": false
   },
   "outputs": [],
   "source": [
    "from PIL import Image\n",
    "import matplotlib.pyplot as plt\n",
    "import os\n",
    "from PIL import Image\n",
    "%matplotlib inline\n",
    "import os\n",
    "import numpy as np\n",
    "import matplotlib.pyplot as plt\n",
    "import cv2\n",
    "import mahotas as mt\n",
    "import pandas\n",
    "path=\"F:/AMM2/Magnets/magnet_train_data/Magnets_train_23_01_2018/\"\n",
    "X=[]\n",
    "y=[]\n",
    "for directory in os.listdir(path):\n",
    "    for file in os.listdir(path+directory):\n",
    "        img=Image.open(path+directory+\"/\"+file)\n",
    "        #print(path+directory+\"/\"+file, img)\n",
    "        width, height = img.size\n",
    "        for i in range(width):\n",
    "            for j in range(height):\n",
    "                #RGB =img.getpixel((i,j))\n",
    "                #print(rgb)\n",
    "                featurevector= img.getpixel((i,j))\n",
    "                #print(featurevector)\n",
    "        X.append(featurevector)\n",
    "        if directory == \"T1\":\n",
    "            label = 0\n",
    "        if directory == \"pore\":\n",
    "            label = 1\n",
    "        if directory == \"oxide\":\n",
    "            label = 2\n",
    "        if directory == \"Nd\":\n",
    "            label = 3\n",
    "        if directory == \"T2\":\n",
    "            label = 4\n",
    "        if directory == \"mixed\":\n",
    "            label = 5\n",
    "        y.append(label)      "
   ]
  },
  {
   "cell_type": "code",
   "execution_count": 3,
   "metadata": {
    "collapsed": true,
    "scrolled": true
   },
   "outputs": [],
   "source": [
    "from sklearn import model_selection\n",
    "from sklearn.model_selection import train_test_split\n",
    "validation_size = 0.33\n",
    "X_train, X_test, y_train, y_test = model_selection.train_test_split(X, y,test_size=validation_size, random_state= 7)\n"
   ]
  },
  {
   "cell_type": "code",
   "execution_count": 4,
   "metadata": {
    "scrolled": true
   },
   "outputs": [
    {
     "data": {
      "text/plain": [
       "StandardScaler(copy=True, with_mean=True, with_std=True)"
      ]
     },
     "execution_count": 4,
     "metadata": {},
     "output_type": "execute_result"
    }
   ],
   "source": [
    "from sklearn.preprocessing import StandardScaler\n",
    "scaler = StandardScaler()\n",
    "scaler.fit(X_train)"
   ]
  },
  {
   "cell_type": "code",
   "execution_count": 5,
   "metadata": {},
   "outputs": [
    {
     "name": "stdout",
     "output_type": "stream",
     "text": [
      "(75, 3)\n"
     ]
    }
   ],
   "source": [
    "X_train = scaler.transform(X_train)\n",
    "X_test = scaler.transform(X_test)\n",
    "print(X_train.shape)"
   ]
  },
  {
   "cell_type": "code",
   "execution_count": 82,
   "metadata": {
    "scrolled": true
   },
   "outputs": [
    {
     "data": {
      "text/plain": [
       "MLPClassifier(activation='relu', alpha=0.01, batch_size='auto', beta_1=0.9,\n",
       "       beta_2=0.999, early_stopping=False, epsilon=1e-08,\n",
       "       hidden_layer_sizes=(300, 300), learning_rate='constant',\n",
       "       learning_rate_init=0.001, max_iter=600, momentum=0.9,\n",
       "       nesterovs_momentum=True, power_t=0.5, random_state=None,\n",
       "       shuffle=True, solver='adam', tol=0.0001, validation_fraction=0.1,\n",
       "       verbose=False, warm_start=False)"
      ]
     },
     "execution_count": 82,
     "metadata": {},
     "output_type": "execute_result"
    }
   ],
   "source": [
    "from sklearn.neural_network import MLPClassifier\n",
    "nn = MLPClassifier(activation='relu', alpha=0.01, batch_size='auto',hidden_layer_sizes=(300,300),max_iter=600)\n",
    "nn.fit(X_train,y_train)"
   ]
  },
  {
   "cell_type": "code",
   "execution_count": 7,
   "metadata": {
    "collapsed": true
   },
   "outputs": [],
   "source": [
    "predictions = nn.predict(X_test)"
   ]
  },
  {
   "cell_type": "code",
   "execution_count": 46,
   "metadata": {
    "scrolled": false
   },
   "outputs": [
    {
     "name": "stdout",
     "output_type": "stream",
     "text": [
      "C:/b/T2/16009_165_1000x_HF_P1.jpg\n"
     ]
    },
    {
     "name": "stderr",
     "output_type": "stream",
     "text": [
      "C:\\Users\\69654\\AppData\\Local\\Continuum\\Anaconda3\\lib\\site-packages\\sklearn\\utils\\validation.py:429: DataConversionWarning: Data with input dtype uint8 was converted to float64 by StandardScaler.\n",
      "  warnings.warn(msg, _DataConversionWarning)\n"
     ]
    },
    {
     "name": "stdout",
     "output_type": "stream",
     "text": [
      "(0.6845323741007194, 0.0, 0.08014388489208633, 0.008273381294964029, 0.007074340527577938, 0.21997601918465226)\n"
     ]
    },
    {
     "data": {
      "text/plain": [
       "<matplotlib.image.AxesImage at 0xea65a90>"
      ]
     },
     "execution_count": 46,
     "metadata": {},
     "output_type": "execute_result"
    },
    {
     "data": {
      "image/png": "[encoded data removed]",
      "text/plain": [
       "<matplotlib.figure.Figure at 0xeaddac8>"
      ]
     },
     "metadata": {},
     "output_type": "display_data"
    }
   ],
   "source": [
    "%matplotlib inline\n",
    "from PIL import ImageFilter\n",
    "from PIL import Image, ImageEnhance\n",
    "path1=\"C:/b/\"\n",
    "classcolors = {5 : (200,127,0), 0 : (0,255,0), 1 : (0,0,255), 4 : (255,255,0), 3 : (0,255,255), 2 : (255,0,255), 6: (0,0,0)}\n",
    "import numpy as np\n",
    "for file in os.listdir(path1):\n",
    "        print(path1+directory+\"/\"+file)\n",
    "        img=Image.open(path1+\"/\"+file)\n",
    "        width, height = img.size\n",
    "        flatImg = np.array(img).reshape(-1,3)\n",
    "        predictions = nn.predict(scaler.transform(flatImg))\n",
    "        i=0\n",
    "        for pred in predictions:\n",
    "            flatImg[i] = classcolors[int(pred)]\n",
    "            i=i+1\n",
    "        flatImg = flatImg.reshape(height, width,3)\n",
    "        img = Image.fromarray(flatImg.astype('uint8'), 'RGB')\n",
    "        ee = relative_phase(img)\n",
    "        print(ee)\n",
    "img.save(\"C:/b/000.png\")\n",
    "plt.imshow(img)"
   ]
  },
  {
   "cell_type": "code",
   "execution_count": 291,
   "metadata": {},
   "outputs": [
    {
     "name": "stdout",
     "output_type": "stream",
     "text": [
      "C:/b/T2/16009_165_1000x_HF_P1.jpg\n"
     ]
    }
   ],
   "source": [
    "%matplotlib inline\n",
    "F=[]\n",
    "path1=\"C:/b/\"\n",
    "for file in os.listdir(path1):\n",
    "        print(path1+directory+\"/\"+file)\n",
    "        img1=Image.open(path1+\"/\"+file)\n",
    "        width1, height1 = img1.size\n",
    "        featurevector = scaler.transform(img1.getdata())\n",
    "        prob = nn.predict_proba(featurevector)\n",
    "        d = np.array(prob).reshape(6,width1,height1)"
   ]
  },
  {
   "cell_type": "code",
   "execution_count": 292,
   "metadata": {},
   "outputs": [],
   "source": [
    "a = d[0,:,:]"
   ]
  },
  {
   "cell_type": "code",
   "execution_count": 293,
   "metadata": {},
   "outputs": [
    {
     "data": {
      "text/plain": [
       "(300, 278)"
      ]
     },
     "execution_count": 293,
     "metadata": {},
     "output_type": "execute_result"
    }
   ],
   "source": [
    "a.shape"
   ]
  },
  {
   "cell_type": "code",
   "execution_count": 295,
   "metadata": {},
   "outputs": [],
   "source": [
    "#a = d[6]\n",
    "a[a == 0.99] = 255\n",
    "a[a == 0.10] = 0\n",
    "scipy.misc.imsave(\"C:/b/c6.jpg\", a)\n",
    "#a = np.array(a).reshape(-1)"
   ]
  }
 ],
 "metadata": {
  "kernelspec": {
   "display_name": "Python 3",
   "language": "python",
   "name": "python3"
  },
  "language_info": {
   "codemirror_mode": {
    "name": "ipython",
    "version": 3
   },
   "file_extension": ".py",
   "mimetype": "text/x-python",
   "name": "python",
   "nbconvert_exporter": "python",
   "pygments_lexer": "ipython3",
   "version": "3.6.1"
  }
 },
 "nbformat": 4,
 "nbformat_minor": 2
}
