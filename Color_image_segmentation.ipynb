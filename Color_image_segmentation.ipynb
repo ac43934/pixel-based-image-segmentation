{
 "cells": [
  {
   "cell_type": "code",
   "execution_count": 1,
   "metadata": {
    "collapsed": true,
    "scrolled": false
   },
   "outputs": [],
   "source": [
    "%matplotlib inline\n",
    "from PIL import Image\n",
    "import os\n",
    "import numpy as np\n",
    "import matplotlib.pyplot as plt\n",
    "path=\"F:/AMM2/Magnets/magnet_train_data/magnets_train_14_12_2017/magnets_16_12_2017_tested ok for 165/\"\n",
    "X=[]\n",
    "y=[]\n",
    "for directory in os.listdir(path):\n",
    "    for file in os.listdir(path+directory):\n",
    "        img=Image.open(path+directory+\"/\"+file)\n",
    "        #print(path+directory+\"/\"+file, img)\n",
    "        width, height = img.size\n",
    "        for i in range(width):\n",
    "            for j in range(height):\n",
    "                #RGB =img.getpixel((i,j))\n",
    "                #print(rgb)\n",
    "                featurevector= img.getpixel((i,j))\n",
    "                #print(featurevector)\n",
    "        X.append(featurevector)\n",
    "        if directory == \"T1\":\n",
    "            label = 0\n",
    "        if directory == \"pore\":\n",
    "            label = 1\n",
    "        if directory == \"oxide\":\n",
    "            label = 2\n",
    "        if directory == \"Nd\":\n",
    "            label = 3\n",
    "        if directory == \"T2\":\n",
    "            label = 4\n",
    "        if directory == \"mixed_phases\":\n",
    "            label = 5\n",
    "        if directory == \"UIO\":\n",
    "            label = 6\n",
    "        y.append(label)      "
   ]
  },
  {
   "cell_type": "code",
   "execution_count": 2,
   "metadata": {
    "collapsed": true,
    "scrolled": true
   },
   "outputs": [],
   "source": [
    "from sklearn import model_selection\n",
    "from sklearn.model_selection import train_test_split\n",
    "validation_size = 0.33\n",
    "X_train, X_test, y_train, y_test = model_selection.train_test_split(X, y,test_size=validation_size, random_state= 7)"
   ]
  },
  {
   "cell_type": "code",
   "execution_count": 3,
   "metadata": {
    "scrolled": true
   },
   "outputs": [
    {
     "data": {
      "text/plain": [
       "StandardScaler(copy=True, with_mean=True, with_std=True)"
      ]
     },
     "execution_count": 3,
     "metadata": {},
     "output_type": "execute_result"
    }
   ],
   "source": [
    "from sklearn.preprocessing import StandardScaler\n",
    "scaler = StandardScaler()\n",
    "scaler.fit(X_train)"
   ]
  },
  {
   "cell_type": "code",
   "execution_count": 4,
   "metadata": {},
   "outputs": [
    {
     "name": "stdout",
     "output_type": "stream",
     "text": [
      "(64L, 3L)\n"
     ]
    }
   ],
   "source": [
    "X_train = scaler.transform(X_train)\n",
    "X_test = scaler.transform(X_test)\n",
    "print(X_train.shape)"
   ]
  },
  {
   "cell_type": "code",
   "execution_count": 5,
   "metadata": {
    "scrolled": false
   },
   "outputs": [
    {
     "data": {
      "text/plain": [
       "MLPClassifier(activation='relu', alpha=0.01, batch_size='auto', beta_1=0.9,\n",
       "       beta_2=0.999, early_stopping=False, epsilon=1e-08,\n",
       "       hidden_layer_sizes=(300, 300), learning_rate='constant',\n",
       "       learning_rate_init=0.001, max_iter=600, momentum=0.9,\n",
       "       nesterovs_momentum=True, power_t=0.5, random_state=None,\n",
       "       shuffle=True, solver='adam', tol=0.0001, validation_fraction=0.1,\n",
       "       verbose=False, warm_start=False)"
      ]
     },
     "execution_count": 5,
     "metadata": {},
     "output_type": "execute_result"
    }
   ],
   "source": [
    "from sklearn.neural_network import MLPClassifier\n",
    "nn = MLPClassifier(activation='relu', alpha=0.01, batch_size='auto',hidden_layer_sizes=(20,20),max_iter=600)\n",
    "nn.fit(X_train,y_train)"
   ]
  },
  {
   "cell_type": "code",
   "execution_count": 6,
   "metadata": {
    "collapsed": true
   },
   "outputs": [],
   "source": [
    "predictions = nn.predict(X_test)"
   ]
  },
  {
   "cell_type": "code",
   "execution_count": 7,
   "metadata": {
    "scrolled": true
   },
   "outputs": [
    {
     "name": "stdout",
     "output_type": "stream",
     "text": [
      "[[6 0 0 0 0 0 0]\n",
      " [0 2 0 0 0 0 0]\n",
      " [0 0 6 1 0 0 0]\n",
      " [0 0 1 6 0 0 0]\n",
      " [0 0 0 0 3 0 0]\n",
      " [0 0 0 0 0 2 0]\n",
      " [0 0 0 0 0 0 5]]\n"
     ]
    }
   ],
   "source": [
    "from sklearn.metrics import classification_report,confusion_matrix\n",
    "print(confusion_matrix(y_test,predictions))"
   ]
  },
  {
   "cell_type": "code",
   "execution_count": 8,
   "metadata": {
    "scrolled": false
   },
   "outputs": [
    {
     "name": "stdout",
     "output_type": "stream",
     "text": [
      "             precision    recall  f1-score   support\n",
      "\n",
      "          0       1.00      1.00      1.00         6\n",
      "          1       1.00      1.00      1.00         2\n",
      "          2       0.86      0.86      0.86         7\n",
      "          3       0.86      0.86      0.86         7\n",
      "          4       1.00      1.00      1.00         3\n",
      "          5       1.00      1.00      1.00         2\n",
      "          6       1.00      1.00      1.00         5\n",
      "\n",
      "avg / total       0.94      0.94      0.94        32\n",
      "\n"
     ]
    }
   ],
   "source": [
    "print(classification_report(y_test,predictions))"
   ]
  },
  {
   "cell_type": "code",
   "execution_count": 30,
   "metadata": {
    "collapsed": true
   },
   "outputs": [],
   "source": [
    "def relative_phase(img):\n",
    "    white=0\n",
    "    black=0\n",
    "    brown=0\n",
    "    other1=0\n",
    "    other2=0\n",
    "    other3=0\n",
    "    other4=0\n",
    "    for pixel in img.getdata():\n",
    "        if pixel == (0,255,0):\n",
    "            white += 1\n",
    "        elif pixel == (255,255,0):\n",
    "            brown += 1\n",
    "        elif pixel == (0,255,255):\n",
    "            black += 1\n",
    "        elif pixel == (255,0,255):\n",
    "            other1 += 1\n",
    "        elif pixel == (0,0,255):\n",
    "            other2 += 1\n",
    "        elif pixel == (255,127,0):\n",
    "            other4 += 1\n",
    "        else:\n",
    "            other3 += 1\n",
    "    all = width*height\n",
    "    return ((100.0*white/all),(100.0*brown/all),(100.0*black/all),(100.0*other1/all),(100.0*other2/all),(100.0*other3/all),(100.0*other4/all))"
   ]
  },
  {
   "cell_type": "code",
   "execution_count": 32,
   "metadata": {
    "scrolled": true
   },
   "outputs": [
    {
     "name": "stdout",
     "output_type": "stream",
     "text": [
      "C:/test/UIO/Result of 165_1.jpg\n",
      "(85.64413956931128, 1.2992959564835695, 4.611915377067805, 4.445544213588557, 1.6046683765686056, 1.1447162308711893, 1.2497202761089976)\n"
     ]
    }
   ],
   "source": [
    "%matplotlib inline\n",
    "from PIL import ImageFilter\n",
    "from PIL import Image, ImageEnhance\n",
    "path1 = \"C:/test/\"\n",
    "#path1=\"F:/Intellesis/magnets/my results/resized/\"\n",
    "classcolors = {5 : (255,127,0), 0 : (0,255,0), 1 : (0,0,255), 4 : (255,255,0), 3 : (0,255,255), 2 : (255,0,255), 6 : (255,0,0)}\n",
    "import numpy as np\n",
    "for file in os.listdir(path1):\n",
    "        #timer = Timer()\n",
    "        #timer.start()\n",
    "        #print(\"Loading image... at \" + timer.elapsed(\"\"))\n",
    "        print(path1+directory+\"/\"+file)\n",
    "        img=Image.open(path1+\"/\"+file)\n",
    "        width, height = img.size\n",
    "        #img = im5.filter(ImageFilter.UnsharpMask(radius=3, percent=200, threshold=1))\n",
    "        #img.save(\"C:/3/001.png\")\n",
    "        flatImg = np.array(img).reshape(-1,3)\n",
    "        #predict\n",
    "        #print(\"\\t\\t\\Predicting... at \" + timer.elapsed(\"\"))\n",
    "        predictions = nn.predict(scaler.transform(flatImg))\n",
    "        #color image for visualization\n",
    "        #print(\"\\t\\t\\t\\Coloring... at \" + timer.elapsed(\"\"))\n",
    "        i=0\n",
    "        for pred in predictions:\n",
    "            flatImg[i] = classcolors[int(pred)]\n",
    "            i=i+1\n",
    "        #print(\"\\t\\t\\t\\t\\openflatten...at \" + timer.elapsed(\"\"))\n",
    "        flatImg = flatImg.reshape(height, width,3)\n",
    "        img = Image.fromarray(flatImg.astype('uint8'), 'RGB')\n",
    "        \n",
    "        #print(\"___Done... at \" + timer.elapsed(\"\"))\n",
    "        \n",
    "        ee = relative_phase(img)\n",
    "        print(ee)\n",
    "img.save(\"C:/segmented/testts.png\")\n",
    "plt.imshow(img)"
   ]
  },
  {
   "cell_type": "code",
   "execution_count": null,
   "metadata": {
    "collapsed": true
   },
   "outputs": [],
   "source": []
  }
 ],
 "metadata": {
  "kernelspec": {
   "display_name": "Python 3",
   "language": "python",
   "name": "python3"
  },
  "language_info": {
   "codemirror_mode": {
    "name": "ipython",
    "version": 3
   },
   "file_extension": ".py",
   "mimetype": "text/x-python",
   "name": "python",
   "nbconvert_exporter": "python",
   "pygments_lexer": "ipython3",
   "version": "3.6.1"
  }
 },
 "nbformat": 4,
 "nbformat_minor": 2
}
