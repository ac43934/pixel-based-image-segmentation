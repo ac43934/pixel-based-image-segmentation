{
 "cells": [
  {
   "cell_type": "code",
   "execution_count": 6,
   "metadata": {},
   "outputs": [
    {
     "name": "stdout",
     "output_type": "stream",
     "text": [
      "C:/akc0//Probe_4_Bright_1000x--57.jpg\n",
      "[[  3.96938277e-03   3.16106923e+00   9.90941113e-01   1.74473371e+02\n",
      "    5.20686067e-01   4.17429667e+02   6.94732413e+02   6.72772353e+00\n",
      "    8.54948638e+00   1.10430957e-03   2.11178399e+00  -5.08260151e-01\n",
      "    9.98523836e-01]\n",
      " [  2.73674644e-03   6.12918563e+00   9.82436511e-01   1.74486562e+02\n",
      "    4.06613740e-01   4.17429855e+02   6.91817064e+02   6.72476193e+00\n",
      "    9.04281390e+00   8.26124341e-04   2.52196995e+00  -4.22194843e-01\n",
      "    9.96036316e-01]\n",
      " [  3.75585168e-03   3.46156307e+00   9.90079971e-01   1.74473428e+02\n",
      "    5.04637319e-01   4.17427323e+02   6.94432149e+02   6.72740480e+00\n",
      "    8.62057593e+00   1.05853432e-03   2.16995871e+00  -4.95856658e-01\n",
      "    9.98298122e-01]\n",
      " [  2.75620776e-03   6.14469986e+00   9.82392054e-01   1.74486563e+02\n",
      "    4.08636495e-01   4.17429857e+02   6.91801554e+02   6.72479759e+00\n",
      "    9.04016609e+00   8.29479428e-04   2.52212569e+00  -4.22656830e-01\n",
      "    9.96057292e-01]]\n"
     ]
    }
   ],
   "source": [
    "from PIL import Image\n",
    "%matplotlib inline\n",
    "import os\n",
    "import numpy as np\n",
    "import matplotlib.pyplot as plt\n",
    "import cv2\n",
    "import mahotas as mt\n",
    "from sklearn.model_selection import train_test_split\n",
    "#from sklearn.feature_extraction.image import extract_patches_2d\n",
    "from sklearn.ensemble import AdaBoostClassifier\n",
    "from sklearn.ensemble import RandomForestClassifier\n",
    "from sklearn.cross_validation import cross_val_score\n",
    "import pandas\n",
    "path=\"C:/akc0/\"\n",
    "X=[]\n",
    "#y=[]\n",
    "def extract_features(image):\n",
    "    textures = mt.features.haralick(gray)\n",
    "    ht_mean  = textures.mean(axis=0)\n",
    "    return textures\n",
    "for file in os.listdir(path):\n",
    "        img=cv2.imread(path+\"/\"+file)\n",
    "        print (path+\"/\"+file)\n",
    "        gray = cv2.cvtColor(img, cv2.COLOR_BGR2GRAY)\n",
    "        haralick = extract_features(gray)\n",
    "        print (haralick)"
   ]
  },
  {
   "cell_type": "code",
   "execution_count": null,
   "metadata": {
    "collapsed": true
   },
   "outputs": [],
   "source": []
  }
 ],
 "metadata": {
  "kernelspec": {
   "display_name": "Python 2",
   "language": "python",
   "name": "python2"
  },
  "language_info": {
   "codemirror_mode": {
    "name": "ipython",
    "version": 2
   },
   "file_extension": ".py",
   "mimetype": "text/x-python",
   "name": "python",
   "nbconvert_exporter": "python",
   "pygments_lexer": "ipython2",
   "version": "2.7.13"
  }
 },
 "nbformat": 4,
 "nbformat_minor": 2
}
