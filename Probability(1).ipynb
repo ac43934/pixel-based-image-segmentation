{
 "cells": [
  {
   "cell_type": "code",
   "execution_count": 1,
   "metadata": {
    "collapsed": true,
    "scrolled": false
   },
   "outputs": [],
   "source": [
    "from PIL import Image\n",
    "import matplotlib.pyplot as plt\n",
    "import os\n",
    "from PIL import Image\n",
    "%matplotlib inline\n",
    "import os\n",
    "import numpy as np\n",
    "import matplotlib.pyplot as plt\n",
    "import cv2\n",
    "import pandas\n",
    "path=\"F:/AMM2/Magnets/magnet_train_data/Magnets_train_23_01_2018/\"\n",
    "X=[]\n",
    "y=[]\n",
    "for directory in os.listdir(path):\n",
    "    for file in os.listdir(path+directory):\n",
    "        img=Image.open(path+directory+\"/\"+file)\n",
    "        #print(path+directory+\"/\"+file, img)\n",
    "        width, height = img.size\n",
    "        for i in range(width):\n",
    "            for j in range(height):\n",
    "                #RGB =img.getpixel((i,j))\n",
    "                #print(rgb)\n",
    "                featurevector= img.getpixel((i,j))\n",
    "                #print(featurevector)\n",
    "        X.append(featurevector)\n",
    "        if directory == \"T1\":\n",
    "            label = 0\n",
    "        if directory == \"pore\":\n",
    "            label = 1\n",
    "        if directory == \"oxide\":\n",
    "            label = 2\n",
    "        if directory == \"Nd\":\n",
    "            label = 3\n",
    "        if directory == \"T2\":\n",
    "            label = 4\n",
    "        if directory == \"mixed\":\n",
    "            label = 5\n",
    "        y.append(label)      "
   ]
  },
  {
   "cell_type": "code",
   "execution_count": 2,
   "metadata": {
    "collapsed": true,
    "scrolled": true
   },
   "outputs": [],
   "source": [
    "from sklearn import model_selection\n",
    "from sklearn.model_selection import train_test_split\n",
    "validation_size = 0.33\n",
    "X_train, X_test, y_train, y_test = model_selection.train_test_split(X, y,test_size=validation_size, random_state= 7)\n"
   ]
  },
  {
   "cell_type": "code",
   "execution_count": 3,
   "metadata": {
    "scrolled": true
   },
   "outputs": [
    {
     "data": {
      "text/plain": [
       "StandardScaler(copy=True, with_mean=True, with_std=True)"
      ]
     },
     "execution_count": 3,
     "metadata": {},
     "output_type": "execute_result"
    }
   ],
   "source": [
    "from sklearn.preprocessing import StandardScaler\n",
    "scaler = StandardScaler()\n",
    "scaler.fit(X_train)"
   ]
  },
  {
   "cell_type": "code",
   "execution_count": 4,
   "metadata": {},
   "outputs": [
    {
     "name": "stdout",
     "output_type": "stream",
     "text": [
      "(75, 3)\n"
     ]
    }
   ],
   "source": [
    "X_train = scaler.transform(X_train)\n",
    "X_test = scaler.transform(X_test)\n",
    "print(X_train.shape)"
   ]
  },
  {
   "cell_type": "code",
   "execution_count": 15,
   "metadata": {
    "scrolled": true
   },
   "outputs": [
    {
     "data": {
      "text/plain": [
       "MLPClassifier(activation='relu', alpha=0.01, batch_size='auto', beta_1=0.9,\n",
       "       beta_2=0.999, early_stopping=False, epsilon=1e-08,\n",
       "       hidden_layer_sizes=(300, 300), learning_rate='constant',\n",
       "       learning_rate_init=0.001, max_iter=600, momentum=0.9,\n",
       "       nesterovs_momentum=True, power_t=0.5, random_state=None,\n",
       "       shuffle=True, solver='adam', tol=0.0001, validation_fraction=0.1,\n",
       "       verbose=False, warm_start=False)"
      ]
     },
     "execution_count": 15,
     "metadata": {},
     "output_type": "execute_result"
    }
   ],
   "source": [
    "from sklearn.neural_network import MLPClassifier\n",
    "nn = MLPClassifier(activation='relu', alpha=0.01, batch_size='auto',hidden_layer_sizes=(300,300),max_iter=600)\n",
    "nn.fit(X_train,y_train)"
   ]
  },
  {
   "cell_type": "code",
   "execution_count": 6,
   "metadata": {},
   "outputs": [
    {
     "data": {
      "text/plain": [
       "DecisionTreeClassifier(class_weight=None, criterion='gini', max_depth=6,\n",
       "            max_features=None, max_leaf_nodes=None,\n",
       "            min_impurity_split=1e-07, min_samples_leaf=1,\n",
       "            min_samples_split=2, min_weight_fraction_leaf=0.0,\n",
       "            presort=False, random_state=None, splitter='best')"
      ]
     },
     "execution_count": 6,
     "metadata": {},
     "output_type": "execute_result"
    }
   ],
   "source": [
    "from sklearn.tree import DecisionTreeClassifier\n",
    "nn= (DecisionTreeClassifier(max_depth=6))\n",
    "nn.fit(X_train,y_train)"
   ]
  },
  {
   "cell_type": "code",
   "execution_count": 16,
   "metadata": {
    "collapsed": true
   },
   "outputs": [],
   "source": [
    "predictions = nn.predict(X_test)"
   ]
  },
  {
   "cell_type": "code",
   "execution_count": 208,
   "metadata": {
    "scrolled": false
   },
   "outputs": [
    {
     "name": "stdout",
     "output_type": "stream",
     "text": [
      "C:/b/T2/16009_165_1000x_HF_P1.jpg\n",
      "<PIL.JpegImagePlugin.JpegImageFile image mode=RGB size=197x100 at 0xBCB88D0>\n",
      "(1, 6)\n"
     ]
    }
   ],
   "source": [
    "%matplotlib inline\n",
    "path1=\"C:/b/\"\n",
    "for file in os.listdir(path1):\n",
    "        print(path1+directory+\"/\"+file)\n",
    "        img1=Image.open(path1+\"/\"+file)\n",
    "        height1,width1 = img1.size\n",
    "        print(img1)\n",
    "        result_array = np.empty((1,6))\n",
    "        print (result_array.shape)\n",
    "        for j in range(width1):\n",
    "            for i in range(height1):\n",
    "                featurevector= img1.getpixel((i,j))\n",
    "                featurevector = scaler.transform([featurevector])\n",
    "                t = nn.predict_proba(featurevector)\n",
    "                #print (t)\n",
    "                #print (t.shape)\n",
    "                result_array = np.append(result_array,t,axis=1)\n",
    "                #print (result_array.shape)"
   ]
  },
  {
   "cell_type": "code",
   "execution_count": 209,
   "metadata": {},
   "outputs": [
    {
     "data": {
      "text/plain": [
       "array([[  1.00000000e+00,   8.81289455e-25,   1.84100266e-13, ...,\n",
       "          4.70909576e-33,   1.27460013e-10,   2.54537098e-25]])"
      ]
     },
     "execution_count": 209,
     "metadata": {},
     "output_type": "execute_result"
    }
   ],
   "source": [
    "a = result_array\n",
    "a\n",
    "#scipy.misc.imsave(\"C:/b/c6.jpg\", prob)"
   ]
  },
  {
   "cell_type": "code",
   "execution_count": 210,
   "metadata": {},
   "outputs": [
    {
     "data": {
      "text/plain": [
       "(1, 118206)"
      ]
     },
     "execution_count": 210,
     "metadata": {},
     "output_type": "execute_result"
    }
   ],
   "source": [
    "a.shape"
   ]
  },
  {
   "cell_type": "code",
   "execution_count": 101,
   "metadata": {
    "collapsed": true
   },
   "outputs": [],
   "source": [
    "np.savetxt(\"C:/b/test_image.csv\",prob, delimiter=',')"
   ]
  },
  {
   "cell_type": "code",
   "execution_count": 27,
   "metadata": {
    "collapsed": true
   },
   "outputs": [],
   "source": [
    "import scipy\n",
    "#a = d[6]\n",
    "a[a > 240] = 255\n",
    "a[a <= 240] = 0\n",
    "scipy.misc.imsave(\"C:/b/c6.jpg\", a)\n",
    "#a = np.array(a).reshape(-1)"
   ]
  }
 ],
 "metadata": {
  "kernelspec": {
   "display_name": "Python 3",
   "language": "python",
   "name": "python3"
  },
  "language_info": {
   "codemirror_mode": {
    "name": "ipython",
    "version": 3
   },
   "file_extension": ".py",
   "mimetype": "text/x-python",
   "name": "python",
   "nbconvert_exporter": "python",
   "pygments_lexer": "ipython3",
   "version": "3.6.1"
  }
 },
 "nbformat": 4,
 "nbformat_minor": 2
}
