{
 "cells": [
  {
   "cell_type": "code",
   "execution_count": 182,
   "metadata": {
    "collapsed": true
   },
   "outputs": [],
   "source": [
    "import cv2\n",
    "import numpy as np\n",
    "from matplotlib import pyplot as plt\n",
    "def laplacian(path):\n",
    "    L = []\n",
    "    sigma = [1,2,4,8,16]\n",
    "    for x in sigma:\n",
    "        image = cv2.imread(path,)\n",
    "        img0 = cv2.GaussianBlur(image,(5,5),x)\n",
    "        img = cv2.cvtColor(img0, cv2.COLOR_BGR2GRAY)\n",
    "        laplacian = cv2.Laplacian(img,cv2.CV_64F)\n",
    "        #laplacian = np.array(laplacian).reshape(-1,1)\n",
    "        L.append(laplacian)\n",
    "    return L"
   ]
  },
  {
   "cell_type": "code",
   "execution_count": 258,
   "metadata": {
    "collapsed": true
   },
   "outputs": [],
   "source": [
    "import cv2\n",
    "import numpy as np\n",
    "from matplotlib import pyplot as plt\n",
    "def sobelx(path,sigma):\n",
    "# loading image\n",
    "    image = cv2.imread(path,)\n",
    "    img0 = cv2.GaussianBlur(image,(5,5),sigma)\n",
    "# converting to gray scale\n",
    "    img = cv2.cvtColor(img0, cv2.COLOR_BGR2GRAY)\n",
    "    sobelx = cv2.Sobel(img,cv2.CV_64F,1,0,ksize=5)  # x# y\n",
    "    return sobelx\n",
    "def sobely(path,sigma):\n",
    "# loading image\n",
    "#img0 = cv2.imread('SanFrancisco.jpg',)\n",
    "# converting to gray scale\n",
    "    image = cv2.imread(path,)\n",
    "    img0 = cv2.GaussianBlur(image,(5,5),sigma)\n",
    "# converting to gray scale\n",
    "    img = cv2.cvtColor(img0, cv2.COLOR_BGR2GRAY)\n",
    "    sobely = cv2.Sobel(img,cv2.CV_64F,0,1,ksize=5)  # y\n",
    "    return sobely\n",
    "def laplacian(path,sigma):\n",
    "# loading image\n",
    "#img0 = cv2.imread('SanFrancisco.jpg',)\n",
    "# converting to gray scale\n",
    "    image = cv2.imread(path,)\n",
    "    img0 = cv2.GaussianBlur(image,(5,5),sigma)\n",
    "# converting to gray scale\n",
    "    img = cv2.cvtColor(img0, cv2.COLOR_BGR2GRAY)\n",
    "    laplacian = cv2.Laplacian(img,cv2.CV_64F)  # y\n",
    "    return laplacian"
   ]
  },
  {
   "cell_type": "code",
   "execution_count": 259,
   "metadata": {
    "collapsed": true
   },
   "outputs": [],
   "source": [
    "%matplotlib inline\n",
    "from skimage import data, color, feature\n",
    "import skimage.data\n",
    "import matplotlib.pyplot as plt\n",
    "import seaborn as sns; sns.set()\n",
    "import numpy as np\n",
    "def hog(path):\n",
    "    image = Image.open(path)\n",
    "    image = np.array(image)\n",
    "    image = color.rgb2gray(image)\n",
    "    hog_vec, hog_vis = feature.hog(image,orientations=6, pixels_per_cell=(8, 8),cells_per_block=(1, 1), visualise=True)\n",
    "    hogg = hog_vis.reshape(-1)\n",
    "    return(hogg)"
   ]
  },
  {
   "cell_type": "code",
   "execution_count": 260,
   "metadata": {
    "collapsed": true
   },
   "outputs": [],
   "source": [
    "from skimage.feature import hessian_matrix,hessian_matrix_eigvals\n",
    "from PIL import Image\n",
    "import numpy as np\n",
    "def hessian(path,sigma):\n",
    "    image = Image.open(path)\n",
    "    y= np.asarray(image,dtype=np.float64).reshape(-1,3)\n",
    "    Hrr, Hrc, Hcc = hessian_matrix(y, sigma=sigma)\n",
    "    module = ((Hrr*Hrr)+(Hrc*Hrc)+(Hcc*Hcc))**(1/2.0)\n",
    "    Trace = (Hrr+Hcc)\n",
    "    Determinant = ((Hrr*Hcc)-(Hrc*Hrc))\n",
    "    H1 = hessian_matrix_eigvals(Hrr,Hrc,Hcc)[1]\n",
    "    H0 = hessian_matrix_eigvals(Hrr,Hrc,Hcc)[0]\n",
    "    gamma = ((1**(3/4.0))**(4.0))*(((Hrr-Hcc)**(2.0)))*((4*Hrc*Hrc)+((Hrr-Hcc)**(2.0)))\n",
    "    gamma_0 = (((1**(3/4.0))**(2.0))*((4*Hrc*Hrc)+((Hrr-Hcc)**(2.0))))\n",
    "    H = np.column_stack((module,Trace,Determinant,H1,H0,gamma,gamma_0))\n",
    "    return (H)"
   ]
  },
  {
   "cell_type": "code",
   "execution_count": 261,
   "metadata": {
    "collapsed": true
   },
   "outputs": [],
   "source": [
    "from skimage.feature import structure_tensor,structure_tensor_eigvals\n",
    "from PIL import Image\n",
    "import numpy as np\n",
    "def structure(path,sigma):\n",
    "    image = Image.open(path)\n",
    "    y= np.asarray(image,dtype=np.float64).reshape(-1,3)\n",
    "    Axx, Axy, Ayy = structure_tensor(y, sigma=sigma)\n",
    "    Hrr = Axx\n",
    "    Hcc = Ayy\n",
    "    Hrc = Axy\n",
    "    S0 = structure_tensor_eigvals(Axx, Axy, Ayy)[0]\n",
    "    S1= structure_tensor_eigvals(Axx, Axy, Ayy)[1]\n",
    "    module = ((Hrr*Hrr)+(Hrc*Hrc)+(Hcc*Hcc))**(1/2.0)\n",
    "    Trace = (Hrr+Hcc)\n",
    "    Determinant = ((Hrr*Hcc)-(Hrc*Hrc))\n",
    "    gamma = ((1**(3/4.0))**(4.0))*(((Hrr-Hcc)**(2.0)))*((4*Hrc*Hrc)+((Hrr-Hcc)**(2.0)))\n",
    "    gamma_0 = (((1**(3/4.0))**(2.0))*((4*Hrc*Hrc)+((Hrr-Hcc)**(2.0))))\n",
    "    S = np.column_stack((module,Trace,Determinant,S1,S0,gamma,gamma_0))\n",
    "    return (S)"
   ]
  },
  {
   "cell_type": "code",
   "execution_count": 262,
   "metadata": {},
   "outputs": [],
   "source": [
    "%matplotlib inline\n",
    "from matplotlib import pyplot as plt\n",
    "import scipy\n",
    "from skimage.filters import gaussian\n",
    "def DoG(path):\n",
    "    original_image = scipy.misc.imread(path)\n",
    "    img = color.rgb2gray(original_image)\n",
    "    s1 = gaussian(img,1)\n",
    "    s2 = gaussian(img,2)\n",
    "    s3 = gaussian(img,4)\n",
    "    s4 = gaussian(img,6)\n",
    "    s5 = gaussian(img,8)\n",
    "    dog_1 = np.array(s1 - s2).reshape(-1,1)\n",
    "    dog_2 = np.array(s1 - s3).reshape(-1,1)\n",
    "    dog_3 = np.array(s1 - s4).reshape(-1,1)\n",
    "    dog_4 = np.array(s1 - s5).reshape(-1,1)\n",
    "    dog_5 = np.array(s2 - s3).reshape(-1,1)\n",
    "    dog_6 = np.array(s2 - s4).reshape(-1,1)\n",
    "    dog_7 = np.array(s2 - s5).reshape(-1,1)\n",
    "    dog_8 = np.array(s3 - s4).reshape(-1,1)\n",
    "    dog_9 = np.array(s3 - s5).reshape(-1,1)\n",
    "    dog_10 = np.array(s4 - s5).reshape(-1,1)\n",
    "    D = np.column_stack((dog_1,dog_2,dog_3,dog_4,dog_5,dog_6,dog_7,dog_8,dog_9,dog_10))\n",
    "    return(D)"
   ]
  },
  {
   "cell_type": "code",
   "execution_count": 273,
   "metadata": {
    "collapsed": true
   },
   "outputs": [],
   "source": [
    "% matplotlib inline\n",
    "from PIL import Image\n",
    "import numpy as np\n",
    "from PIL import ImageFilter\n",
    "import matplotlib.pyplot as plt\n",
    "from skimage.filters.rank import entropy\n",
    "from skimage.morphology import disk\n",
    "def filters(path,size):\n",
    "    image=Image.open(path)\n",
    "    X_i = np.array(image).reshape(-1,1)\n",
    "    G_blur = np.array(image.filter(ImageFilter.GaussianBlur(radius=size))).reshape(-1,3)\n",
    "    Median = np.array(image.filter(ImageFilter.MedianFilter(size=size))).reshape(-1,3)\n",
    "    Minimum = np.array(image.filter(ImageFilter.MinFilter(size=size))).reshape(-1,3)\n",
    "    Maximum = np.array(image.filter(ImageFilter.MaxFilter(size=size))).reshape(-1,3)\n",
    "    Mode = np.array(image.filter(ImageFilter.ModeFilter(size=size))).reshape(-1,3)\n",
    "    Entropy = np.array(entropy(X_i, disk(size))).reshape(-1,3)\n",
    "    F_t = np.column_stack((G_blur,Median,Minimum,Maximum,Mode,Entropy))\n",
    "    return F_t"
   ]
  },
  {
   "cell_type": "code",
   "execution_count": 281,
   "metadata": {
    "collapsed": true
   },
   "outputs": [],
   "source": [
    "import cv2\n",
    "import numpy as np\n",
    "from matplotlib import pyplot as plt\n",
    "def bilateral(path):\n",
    "    img = cv2.imread(path)\n",
    "    bilateral_1 = np.array(cv2.bilateralFilter(img,5,50,50)).reshape(-1,3)\n",
    "    bilateral_2 = np.array(cv2.bilateralFilter(img,5,50,100)).reshape(-1,3)\n",
    "    bilateral_3 = np.array(cv2.bilateralFilter(img,10,100,100)).reshape(-1,3)\n",
    "    bilateral_4 = np.array(cv2.bilateralFilter(img,10,50,100)).reshape(-1,3)\n",
    "    B = np.column_stack((bilateral_1,bilateral_2,bilateral_3,bilateral_4))\n",
    "    return B"
   ]
  },
  {
   "cell_type": "code",
   "execution_count": 293,
   "metadata": {
    "collapsed": true
   },
   "outputs": [],
   "source": [
    "import cv2\n",
    "import numpy as np\n",
    "from matplotlib import pyplot as plt\n",
    "def get_pixel(img, center, x, y):\n",
    "    new_value = 0\n",
    "    try:\n",
    "        if img[x][y] >= center:\n",
    "            new_value = 1\n",
    "    except:\n",
    "        pass\n",
    "    return new_value\n",
    "\n",
    "def lbp_calculated_pixel(img, x, y):   \n",
    "    center = img[x][y]\n",
    "    val_ar = []\n",
    "    val_ar.append(get_pixel(img, center, x-1, y+1))     # top_right\n",
    "    val_ar.append(get_pixel(img, center, x, y+1))       # right\n",
    "    val_ar.append(get_pixel(img, center, x+1, y+1))     # bottom_right\n",
    "    val_ar.append(get_pixel(img, center, x+1, y))       # bottom\n",
    "    val_ar.append(get_pixel(img, center, x+1, y-1))     # bottom_left\n",
    "    val_ar.append(get_pixel(img, center, x, y-1))       # left\n",
    "    val_ar.append(get_pixel(img, center, x-1, y-1))     # top_left\n",
    "    val_ar.append(get_pixel(img, center, x-1, y))       # top\n",
    "    \n",
    "    power_val = [1, 2, 4, 8, 16, 32, 64, 128]\n",
    "    val = 0\n",
    "    for i in range(len(val_ar)):\n",
    "        val += val_ar[i] * power_val[i]\n",
    "    return val"
   ]
  },
  {
   "cell_type": "code",
   "execution_count": 295,
   "metadata": {},
   "outputs": [],
   "source": [
    "def LBP(path):\n",
    "    image_file = path\n",
    "    img_bgr = cv2.imread(image_file)\n",
    "    height, width, channel = img_bgr.shape\n",
    "    img_gray = cv2.cvtColor(img_bgr, cv2.COLOR_BGR2GRAY)\n",
    "    img_lbp = np.zeros((height, width,3), np.uint8)\n",
    "    for i in range(0, height):\n",
    "        for j in range(0, width):\n",
    "            img_lbp[i, j] = lbp_calculated_pixel(img_gray, i, j)\n",
    "    img_lbp = np.array(img_lbp).reshape(-1,3)\n",
    "    return img_lbp"
   ]
  },
  {
   "cell_type": "code",
   "execution_count": 302,
   "metadata": {
    "collapsed": true
   },
   "outputs": [],
   "source": [
    "import numpy as np\n",
    "import skimage\n",
    "from skimage.feature import greycomatrix, greycoprops\n",
    "def glcm_image(img, measure=\"contrast\"):\n",
    "    \"\"\"TODO: allow different window sizes by parameterizing 3, 4. Also should\n",
    "    parameterize direction vector [1] [0]\"\"\"\n",
    "    texture = np.zeros_like(img)\n",
    "\n",
    "    # quadratic looping in python w/o vectorized routine, yuck!\n",
    "    for i in range(img.shape[0] ):  \n",
    "        for j in range(img.shape[1] ):  \n",
    "          \n",
    "            # don't calculate at edges\n",
    "            if (i < 3) or \\\n",
    "               (i > (img.shape[0])) or \\\n",
    "               (j < 3) or \\\n",
    "               (j > (img.shape[0] - 4)):          \n",
    "                continue  \n",
    "        \n",
    "            # calculate glcm matrix for 7 x 7 window, use dissimilarity (can swap in\n",
    "            # contrast, etc.)\n",
    "            glcm_window = img[i-3: i+4, j-3 : j+4]  \n",
    "            glcm = greycomatrix(glcm_window, [1], [0],  symmetric = True, normed = True )   \n",
    "            texture[i,j] = greycoprops(glcm, measure)  \n",
    "    return texture"
   ]
  },
  {
   "cell_type": "code",
   "execution_count": 309,
   "metadata": {
    "collapsed": true
   },
   "outputs": [],
   "source": [
    "from PIL import Image\n",
    "import cv2\n",
    "def GLCM(path):\n",
    "    img = cv2.imread('C:/test/0.jpg',0)\n",
    "    G_co = np.array(glcm_image(img, measure ='correlation')).reshape(-1,1)\n",
    "    G_con = np.array(glcm_image(img, measure ='contrast')).reshape(-1,1)\n",
    "    G_e = np.array(glcm_image(img, measure ='energy')).reshape(-1,1)\n",
    "    G_a = np.array(glcm_image(img, measure ='ASM')).reshape(-1,1)\n",
    "    G_h = np.array(glcm_image(img, measure ='homogeneity')).reshape(-1,1)\n",
    "    G_d = np.array(glcm_image(img, measure ='dissimilarity')).reshape(-1,1)\n",
    "    G = np.column_stack((G_co,G,con,G_e,G_a,G_h,G_d))\n",
    "    return G"
   ]
  },
  {
   "cell_type": "code",
   "execution_count": 312,
   "metadata": {
    "collapsed": true
   },
   "outputs": [],
   "source": [
    "from skimage.io import imread, imsave\n",
    "from PIL import Image\n",
    "import matplotlib as plt\n",
    "import numpy as np\n",
    "from skimage.color import rgb2gray, rgb2grey\n",
    "from skimage.color import rgb2hsv\n",
    "from skimage.io import imshow, show\n",
    "from skimage import io, color\n",
    "from skimage.feature import structure_tensor,structure_tensor_eigvals\n",
    "from skimage.feature import hessian_matrix,hessian_matrix_eigvals\n",
    "from math import atan\n",
    "def features(path):\n",
    "    image = Image.open(path)\n",
    "    X = np.reshape(image, [-1, 3])\n",
    "    original_shape = X.shape\n",
    "    hsv = color.rgb2hsv(image)\n",
    "    y = np.asarray(image,dtype=np.float64).reshape(-1,3) \n",
    "    HOGG = hog(path)\n",
    "    sobel_x_1 = np.array(sobelx(path,1)).reshape(-1)\n",
    "    sobel_y_1 = np.array(sobely(path,1)).reshape(-1)\n",
    "    lap_1 = np.array(laplacian(path,1)).reshape(-1)\n",
    "    sobel_x_2 = np.array(sobelx(path,2)).reshape(-1)\n",
    "    sobel_y_2 = np.array(sobely(path,2)).reshape(-1)\n",
    "    lap_2 = np.array(laplacian(path,2)).reshape(-1)\n",
    "    sobel_x_4 = np.array(sobelx(path,4)).reshape(-1)\n",
    "    sobel_y_4 = np.array(sobely(path,4)).reshape(-1)\n",
    "    lap_4 = np.array(laplacian(path,4)).reshape(-1)\n",
    "    sobel_x_8 = np.array(sobelx(path,8)).reshape(-1)\n",
    "    sobel_y_8 = np.array(sobely(path,8)).reshape(-1)\n",
    "    lap_8 = np.array(laplacian(path,8)).reshape(-1)\n",
    "    sobel_x_16 = np.array(sobelx(path,16)).reshape(-1)\n",
    "    sobel_y_16 = np.array(sobely(path,16)).reshape(-1)\n",
    "    lap_16 = np.array(laplacian(path,16)).reshape(-1)\n",
    "    HSV = hsv.reshape(-1,3)\n",
    "    D = DoG(path)\n",
    "    S_1 = structure(path,1)\n",
    "    H_1 = hessian(path,1)\n",
    "    S_2 = structure(path,2)\n",
    "    H_2 = hessian(path,2)\n",
    "    S_4 = structure(path,4)\n",
    "    H_4 = hessian(path,4)\n",
    "    S_8 = structure(path,8)\n",
    "    H_8 = hessian(path,8)\n",
    "    S_16 = structure(path,16)\n",
    "    H_16 = hessian(path,16)\n",
    "    F_T_1 = filters(path,1)\n",
    "    F_T_2 = filters(path,3)\n",
    "    F_T_4 = filters(path,5)\n",
    "    F_T_8 = filters(path,7)\n",
    "    F_T_16 = filters(path,9)\n",
    "    B = bilateral(path)\n",
    "    Lbp = LBP(path)\n",
    "    #Glcm = GLCM(path)\n",
    "    F = np.column_stack((HSV,HOGG,sobel_x_1,sobel_y_1,lap_1,sobel_x_2,sobel_y_2,lap_2,sobel_x_4,sobel_y_4,lap_4,\n",
    "                         sobel_x_8,sobel_y_8,lap_8,sobel_x_16,sobel_y_16,lap_16,D,S_1,H_1,S_2,H_2,S_4,H_4,\n",
    "                        S_8,H_8,S_16,H_16,F_T_1,F_T_2,F_T_4,F_T_8,F_T_16,B,Lbp))\n",
    "    Fmax, Fmin = F.max(), F.min()\n",
    "    Z = (F - Fmin)/(Fmax - Fmin)\n",
    "    return (Z)"
   ]
  },
  {
   "cell_type": "code",
   "execution_count": 317,
   "metadata": {},
   "outputs": [
    {
     "name": "stderr",
     "output_type": "stream",
     "text": [
      "C:\\Users\\69654\\AppData\\Local\\Continuum\\Anaconda2\\lib\\site-packages\\skimage\\feature\\_hog.py:119: skimage_deprecation: Default value of `block_norm`==`L1` is deprecated and will be changed to `L2-Hys` in v0.15\n",
      "  'be changed to `L2-Hys` in v0.15', skimage_deprecation)\n"
     ]
    }
   ],
   "source": [
    "from skimage.io import imread, imsave\n",
    "from PIL import Image\n",
    "import matplotlib as plt\n",
    "import numpy as np\n",
    "from skimage.color import rgb2gray, rgb2grey \n",
    "from skimage.feature import greycomatrix, greycoprops\n",
    "# read the image\n",
    "path = \"C:/test/12.jpg\"\n",
    "#image = np.array(image)\n",
    "#image = image[:,:,0]\n",
    "#image = image.reshape(-1,3)\n",
    "out = features(path)\n",
    "np.savetxt(\"C:/test/12.csv\",out, delimiter=',')"
   ]
  },
  {
   "cell_type": "code",
   "execution_count": 301,
   "metadata": {},
   "outputs": [
    {
     "name": "stdout",
     "output_type": "stream",
     "text": [
      "(64774L, 344L)\n"
     ]
    }
   ],
   "source": [
    "print (out.shape)"
   ]
  },
  {
   "cell_type": "code",
   "execution_count": null,
   "metadata": {
    "collapsed": true
   },
   "outputs": [],
   "source": []
  }
 ],
 "metadata": {
  "kernelspec": {
   "display_name": "Python 2",
   "language": "python",
   "name": "python2"
  },
  "language_info": {
   "codemirror_mode": {
    "name": "ipython",
    "version": 2
   },
   "file_extension": ".py",
   "mimetype": "text/x-python",
   "name": "python",
   "nbconvert_exporter": "python",
   "pygments_lexer": "ipython2",
   "version": "2.7.13"
  }
 },
 "nbformat": 4,
 "nbformat_minor": 2
}
