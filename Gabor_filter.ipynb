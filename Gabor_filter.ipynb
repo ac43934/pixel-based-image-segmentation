{
 "cells": [
  {
   "cell_type": "code",
   "execution_count": 4,
   "metadata": {},
   "outputs": [
    {
     "name": "stderr",
     "output_type": "stream",
     "text": [
      "C:\\Users\\69654\\AppData\\Local\\Continuum\\Anaconda2\\lib\\site-packages\\sklearn\\cross_validation.py:44: DeprecationWarning: This module was deprecated in version 0.18 in favor of the model_selection module into which all the refactored classes and functions are moved. Also note that the interface of the new CV iterators are different from that of this module. This module will be removed in 0.20.\n",
      "  \"This module will be removed in 0.20.\", DeprecationWarning)\n"
     ]
    }
   ],
   "source": [
    "import numpy as np\n",
    "import pandas as pd\n",
    "from numpy import genfromtxt\n",
    "from numpy import ravel\n",
    "import pylab as pl\n",
    "from skimage import transform\n",
    "import h5py\n",
    "import cv2\n",
    "from sklearn import cross_validation\n",
    "import uuid\n",
    "import random\n",
    "from skimage import io, exposure, img_as_uint, img_as_float\n",
    "from numpy import (array, dot, arccos)\n",
    "from numpy.linalg import norm"
   ]
  },
  {
   "cell_type": "code",
   "execution_count": 5,
   "metadata": {
    "collapsed": true
   },
   "outputs": [],
   "source": [
    "import cv2\n",
    "import numpy as np\n",
    "import pylab as pl\n",
    "import glob\n",
    "import pandas as pd\n",
    "\n",
    "# define gabor filter bank with different orientations and at different scales\n",
    "def build_filters():\n",
    "\tfilters = []\n",
    "\tksize = 9\n",
    "\t#define the range for theta and nu\n",
    "\tfor theta in np.arange(0, np.pi, np.pi / 8):\n",
    "\t\tfor nu in np.arange(0, 6*np.pi/4 , np.pi / 4):\n",
    "\t\t\tkern = cv2.getGaborKernel((ksize, ksize), 1.0, theta, nu, 0.5, 0, ktype=cv2.CV_32F)\n",
    "\t\t\tkern /= 1.5*kern.sum()\n",
    "\t\t\tfilters.append(kern)\n",
    "\treturn filters\n",
    "\n",
    "#function to convolve the image with the filters\n",
    "def process(img, filters):\n",
    "\taccum = np.zeros_like(img)\n",
    "\tfor kern in filters:\n",
    "\t\tfimg = cv2.filter2D(img, cv2.CV_8UC3, kern)\n",
    "\t\tnp.maximum(accum, fimg, accum)\n",
    "\treturn accum\n"
   ]
  },
  {
   "cell_type": "code",
   "execution_count": 20,
   "metadata": {},
   "outputs": [],
   "source": [
    "filters = build_filters()\n",
    "\n",
    "f = np.asarray(filters)\n",
    "\n",
    "\t#reading the input image\n",
    "imgg = cv2.imread('C:/test/0.jpg',0)\n",
    "for j in range(50):\n",
    "\tres = process(imgg, f[40])"
   ]
  },
  {
   "cell_type": "code",
   "execution_count": 19,
   "metadata": {},
   "outputs": [
    {
     "name": "stdout",
     "output_type": "stream",
     "text": [
      "[[46 47 45 ..., 62 62 62]\n",
      " [48 49 47 ..., 62 62 62]\n",
      " [52 52 50 ..., 63 62 62]\n",
      " ..., \n",
      " [63 63 63 ..., 59 59 58]\n",
      " [63 63 63 ..., 60 58 56]\n",
      " [63 63 63 ..., 60 58 56]]\n"
     ]
    }
   ],
   "source": [
    "print (res)"
   ]
  },
  {
   "cell_type": "code",
   "execution_count": null,
   "metadata": {
    "collapsed": true
   },
   "outputs": [],
   "source": []
  },
  {
   "cell_type": "code",
   "execution_count": null,
   "metadata": {
    "collapsed": true
   },
   "outputs": [],
   "source": []
  },
  {
   "cell_type": "code",
   "execution_count": null,
   "metadata": {
    "collapsed": true
   },
   "outputs": [],
   "source": [
    "\n",
    "\n",
    "def image_histogram_equalization(image, number_bins=256):\n",
    "    # from http://www.janeriksolem.net/2009/06/histogram-equalization-with-python-and.html\n",
    "\n",
    "    # get image histogram\n",
    "    image_histogram, bins = np.histogram(image.flatten(), number_bins, normed=True)\n",
    "    cdf = image_histogram.cumsum() # cumulative distribution function\n",
    "    cdf = 255 * cdf / cdf[-1] # normalize\n",
    "\n",
    "    # use linear interpolation of cdf to find new pixel values\n",
    "    image_equalized = np.interp(image.flatten(), bins[:-1], cdf)\n",
    "\n",
    "    return image_equalized.reshape(image.shape), cdf"
   ]
  },
  {
   "cell_type": "code",
   "execution_count": null,
   "metadata": {
    "collapsed": true
   },
   "outputs": [],
   "source": [
    "def build_filters():\n",
    " filters = []\n",
    " ksize = 9\n",
    " for theta in np.arange(0, np.pi, np.pi / 8):\n",
    "  for lamda in np.arange(0, np.pi, np.pi/4): \n",
    "   kern = cv2.getGaborKernel((ksize, ksize), 1.0, theta, lamda, 0.5, 0, ktype=cv2.CV_32F)\n",
    "   kern /= 1.5*kern.sum()\n",
    "   filters.append(kern)\n",
    " return filters\n",
    " \n",
    "def process(img, filters):\n",
    " accum = np.zeros_like(img)\n",
    " for kern in filters:\n",
    "  fimg = cv2.filter2D(img, cv2.CV_8UC3, kern)\n",
    "  np.maximum(accum, fimg, accum)\n",
    " return accum\n",
    "\n",
    "filters = []\n",
    "res = []\n",
    "label = []\n",
    "\n",
    "for k in xrange(len(X)):\n",
    " img = X[k]\n",
    "\n",
    " X[k, :, :] = image_histogram_equalization(X[k, :,:])[0]\n",
    " \n",
    " filters = build_filters()\n",
    " filters = np.asarray(filters)\n",
    " \n",
    "\n",
    " for i in xrange(len(filters)):\n",
    "  res1 = process(img, filters[i])\n",
    "  res.append(np.asarray(res1))\n",
    "  \n",
    "\n",
    "f = np.asarray(filters)\n",
    "print 'Gabor Filters', f.shape\n",
    "output = np.asarray(res)\n",
    "label = np.asarray(label)\n",
    "print 'Final output X,y', output.shape, label.shape\n",
    "\n",
    "\n",
    "# Plot filters and convolved output\n",
    "\n",
    "pl.figure()\n",
    "\n",
    "# plot imagees\n",
    "for k,im in enumerate(X[:36,:]):\n",
    " \n",
    " pl.subplot(6,6,k+1)\n",
    " pl.imshow(im.reshape(96,96), cmap='gray' )\n",
    "\n",
    "pl.show()\n",
    "\n",
    "# Convolved output\n",
    "for k,im in enumerate(output[:36,:]):\n",
    " \n",
    " pl.subplot(6,6,k+1)\n",
    " pl.imshow(im.reshape(96,96), cmap='gray' )\n",
    "\n",
    "pl.show()\n",
    "# Show Filters\n",
    "\n",
    "for k,im in enumerate(f[:32,:]):\n",
    " \n",
    " pl.subplot(6,6,k+1)\n",
    " pl.imshow(im.reshape(9,9), cmap='gray' )\n",
    "\n",
    " \n",
    "pl.show()"
   ]
  }
 ],
 "metadata": {
  "kernelspec": {
   "display_name": "Python 2",
   "language": "python",
   "name": "python2"
  },
  "language_info": {
   "codemirror_mode": {
    "name": "ipython",
    "version": 2
   },
   "file_extension": ".py",
   "mimetype": "text/x-python",
   "name": "python",
   "nbconvert_exporter": "python",
   "pygments_lexer": "ipython2",
   "version": "2.7.13"
  }
 },
 "nbformat": 4,
 "nbformat_minor": 2
}
