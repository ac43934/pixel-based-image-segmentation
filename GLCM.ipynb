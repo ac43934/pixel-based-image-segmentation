{
 "cells": [
  {
   "cell_type": "code",
   "execution_count": 1,
   "metadata": {
    "collapsed": true
   },
   "outputs": [],
   "source": [
    "import numpy as np\n",
    "import skimage\n",
    "from skimage.feature import greycomatrix, greycoprops\n",
    "def glcm_image(img, measure=\"contrast\"):\n",
    "    \"\"\"TODO: allow different window sizes by parameterizing 3, 4. Also should\n",
    "    parameterize direction vector [1] [0]\"\"\"\n",
    "    texture = np.zeros_like(img)\n",
    "\n",
    "    # quadratic looping in python w/o vectorized routine, yuck!\n",
    "    for i in range(img.shape[0] ):  \n",
    "        for j in range(img.shape[1] ):  \n",
    "          \n",
    "            # don't calculate at edges\n",
    "            if (i < 3) or \\\n",
    "               (i > (img.shape[0])) or \\\n",
    "               (j < 3) or \\\n",
    "               (j > (img.shape[0] - 4)):          \n",
    "                continue  \n",
    "        \n",
    "            # calculate glcm matrix for 7 x 7 window, use dissimilarity (can swap in\n",
    "            # contrast, etc.)\n",
    "            glcm_window = img[i-3: i+4, j-3 : j+4]  \n",
    "            glcm = greycomatrix(glcm_window, [1], [0],  symmetric = True, normed = True )   \n",
    "            texture[i,j] = greycoprops(glcm, measure)  \n",
    "    return texture"
   ]
  },
  {
   "cell_type": "code",
   "execution_count": null,
   "metadata": {
    "collapsed": true
   },
   "outputs": [],
   "source": [
    "from PIL import Image\n",
    "import cv2\n",
    "img = cv2.imread('C:/test/0.jpg',0)\n",
    "#img=Image.open(\"C:/segmented/01.jpg\")\n",
    "x = glcm_image(img, measure ='dissimilarity')"
   ]
  },
  {
   "cell_type": "code",
   "execution_count": null,
   "metadata": {
    "collapsed": true
   },
   "outputs": [],
   "source": [
    "img = cv2.imwrite('C:/segmented/001.jpg',x)"
   ]
  }
 ],
 "metadata": {
  "kernelspec": {
   "display_name": "Python 2",
   "language": "python",
   "name": "python2"
  },
  "language_info": {
   "codemirror_mode": {
    "name": "ipython",
    "version": 2
   },
   "file_extension": ".py",
   "mimetype": "text/x-python",
   "name": "python",
   "nbconvert_exporter": "python",
   "pygments_lexer": "ipython2",
   "version": "2.7.13"
  }
 },
 "nbformat": 4,
 "nbformat_minor": 2
}
