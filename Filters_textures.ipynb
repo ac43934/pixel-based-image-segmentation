{
 "cells": [
  {
   "cell_type": "code",
   "execution_count": 39,
   "metadata": {},
   "outputs": [],
   "source": [
    "% matplotlib inline\n",
    "from PIL import Image\n",
    "import numpy as np\n",
    "from PIL import ImageFilter\n",
    "import matplotlib.pyplot as plt\n",
    "from skimage.filters.rank import entropy\n",
    "from skimage.morphology import disk"
   ]
  },
  {
   "cell_type": "code",
   "execution_count": 88,
   "metadata": {},
   "outputs": [],
   "source": [
    "image=Image.open(\"C:/test/0.jpg\")\n",
    "width, height = image.size\n",
    "X= np.array(image).reshape(-1,1)"
   ]
  },
  {
   "cell_type": "code",
   "execution_count": 103,
   "metadata": {},
   "outputs": [],
   "source": [
    "#im1 = image.filter(ImageFilter.GaussianBlur(radius=12))\n",
    "#im2 = image.filter(ImageFilter.MedianFilter(size=15))\n",
    "#im3 = image.filter(ImageFilter.MinFilter(size=3))\n",
    "#im4 = image.filter(ImageFilter.MaxFilter(size=3))\n",
    "#im5 = image.filter(ImageFilter.ModeFilter(size=13))\n",
    "img6 = entropy(X, disk(10))"
   ]
  },
  {
   "cell_type": "code",
   "execution_count": 104,
   "metadata": {},
   "outputs": [
    {
     "name": "stdout",
     "output_type": "stream",
     "text": [
      "[[ 3.45943162  3.5849625   3.70043972]\n",
      " [ 3.80735492  3.9068906   4.        ]\n",
      " [ 4.08746284  4.169925    4.24792751]\n",
      " ..., \n",
      " [ 4.0374012   4.05881389  3.96981578]\n",
      " [ 4.          3.9068906   3.80735492]\n",
      " [ 3.70043972  3.5849625   3.45943162]]\n"
     ]
    }
   ],
   "source": [
    "img6 = img6.reshape(-1,3)\n",
    "print (img6)"
   ]
  },
  {
   "cell_type": "code",
   "execution_count": null,
   "metadata": {
    "collapsed": true
   },
   "outputs": [],
   "source": []
  }
 ],
 "metadata": {
  "kernelspec": {
   "display_name": "Python 2",
   "language": "python",
   "name": "python2"
  },
  "language_info": {
   "codemirror_mode": {
    "name": "ipython",
    "version": 2
   },
   "file_extension": ".py",
   "mimetype": "text/x-python",
   "name": "python",
   "nbconvert_exporter": "python",
   "pygments_lexer": "ipython2",
   "version": "2.7.13"
  }
 },
 "nbformat": 4,
 "nbformat_minor": 2
}
