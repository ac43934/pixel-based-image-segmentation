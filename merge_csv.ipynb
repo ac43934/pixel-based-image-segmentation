{
 "cells": [
  {
   "cell_type": "code",
   "execution_count": 1,
   "metadata": {
    "collapsed": true
   },
   "outputs": [],
   "source": [
    "%matplotlib inline\n",
    "from matplotlib import pyplot as plt\n",
    "import cv2\n",
    "import os\n",
    "import numpy as np\n",
    "import scipy\n",
    "from PIL import Image, ImageFilter\n",
    "from scipy import misc\n",
    "from skimage import io, color\n",
    "from skimage.filters import gaussian\n",
    "from skimage.feature import structure_tensor, structure_tensor_eigvals\n",
    "from skimage.feature import hessian_matrix,hessian_matrix_eigvals"
   ]
  },
  {
   "cell_type": "markdown",
   "metadata": {},
   "source": [
    "Image to text file conversion_ LOOP"
   ]
  },
  {
   "cell_type": "code",
   "execution_count": 147,
   "metadata": {
    "scrolled": true
   },
   "outputs": [],
   "source": [
    "#np.savetxt(\"C:/test/12.csv\",out, delimiter=',')\n",
    "path1 = \"F:/work_progress/2018/May/28_05_2018/feature_images/8/laplacian/\"\n",
    "num = 0\n",
    "for file in os.listdir(path1):\n",
    "    #print(path1+\"/\"+file)\n",
    "    image = Image.open(path1+\"/\"+file)\n",
    "    image = np.array(image).reshape(-1)\n",
    "    np.savetxt(\"F:/work_progress/2018/May/28_05_2018/CSV_split_files/8/laplacian/\"+'laplacian_'+ str(num)+'.csv',image, delimiter=',')\n",
    "    #scipy.misc.imsave(\"C:/6/\"+'HSV_'+ str(num)+'.csv', hsv)\n",
    "    num += 1"
   ]
  },
  {
   "cell_type": "markdown",
   "metadata": {},
   "source": [
    "Merge CSV files along Z-axis after reshaping(-1)"
   ]
  },
  {
   "cell_type": "code",
   "execution_count": 281,
   "metadata": {},
   "outputs": [],
   "source": [
    "fout=open(\"F:/work_progress/2018/May/28_05_2018/Merged_CSV/Structure_19.csv\",\"a\")\n",
    "# first file:\n",
    "for line in open(\"F:/work_progress/2018/May/28_05_2018/CSV_split_files/19/Structure/Structure_0.csv\"):\n",
    "    fout.write(line)\n",
    "# now the rest:    \n",
    "for num in range(1,69):\n",
    "    f = open(\"F:/work_progress/2018/May/28_05_2018/CSV_split_files/19/Structure/Structure_\"+str(num)+\".csv\")\n",
    "    #f.next() # skip the header\n",
    "    for line in f:\n",
    "         fout.write(line)\n",
    "    f.close() # not really needed\n",
    "fout.close()"
   ]
  },
  {
   "cell_type": "code",
   "execution_count": null,
   "metadata": {
    "collapsed": true
   },
   "outputs": [],
   "source": []
  }
 ],
 "metadata": {
  "kernelspec": {
   "display_name": "Python 3",
   "language": "python",
   "name": "python3"
  },
  "language_info": {
   "codemirror_mode": {
    "name": "ipython",
    "version": 3
   },
   "file_extension": ".py",
   "mimetype": "text/x-python",
   "name": "python",
   "nbconvert_exporter": "python",
   "pygments_lexer": "ipython3",
   "version": "3.6.1"
  }
 },
 "nbformat": 4,
 "nbformat_minor": 2
}
