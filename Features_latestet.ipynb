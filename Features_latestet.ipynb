{
 "cells": [
  {
   "cell_type": "code",
   "execution_count": 102,
   "metadata": {
    "collapsed": true
   },
   "outputs": [],
   "source": [
    "%matplotlib inline\n",
    "from matplotlib import pyplot as plt\n",
    "import cv2\n",
    "import os\n",
    "import numpy as np\n",
    "import scipy\n",
    "from PIL import Image, ImageFilter\n",
    "from scipy import misc\n",
    "from skimage import io, color\n",
    "from skimage.filters import gaussian\n",
    "from skimage.feature import structure_tensor, structure_tensor_eigvals\n",
    "from skimage.feature import hessian_matrix,hessian_matrix_eigvals"
   ]
  },
  {
   "cell_type": "code",
   "execution_count": 103,
   "metadata": {
    "collapsed": true
   },
   "outputs": [],
   "source": [
    "def HSV(image,size):\n",
    "    #image = Image.open(path)\n",
    "    #X_i = np.array(image).reshape(-1,1)\n",
    "    G_blur = (image.filter(ImageFilter.GaussianBlur(radius=size)))\n",
    "    hsv = color.rgb2hsv(G_blur)\n",
    "    #hsv = scipy.misc.imsave('F:/images/hsv.jpg', hsv)\n",
    "    return (hsv)"
   ]
  },
  {
   "cell_type": "code",
   "execution_count": 148,
   "metadata": {
    "collapsed": true
   },
   "outputs": [],
   "source": [
    "def sobelx(image,sigma):\n",
    "    img0 = cv2.GaussianBlur(image,(5,5),sigma)\n",
    "    img = cv2.cvtColor(img0, cv2.COLOR_BGR2GRAY)\n",
    "    sobelx = cv2.Sobel(img,cv2.CV_64F,1,0,ksize=5)\n",
    "    return sobelx\n",
    "def sobely(image,sigma):\n",
    "    img0 = cv2.GaussianBlur(image,(5,5),sigma)\n",
    "    img = cv2.cvtColor(img0, cv2.COLOR_BGR2GRAY)\n",
    "    sobely = cv2.Sobel(img,cv2.CV_64F,0,1,ksize=5)\n",
    "    return sobely\n",
    "def laplacian(image,sigma):\n",
    "    img0 = cv2.GaussianBlur(image,(5,5),sigma)\n",
    "    img = cv2.cvtColor(img0, cv2.COLOR_BGR2GRAY)\n",
    "    laplacian = cv2.Laplacian(img,cv2.CV_64F)\n",
    "    return laplacian"
   ]
  },
  {
   "cell_type": "code",
   "execution_count": 212,
   "metadata": {},
   "outputs": [],
   "source": [
    "path1 = \"F:/23-5-2018/19/\"\n",
    "num = 0\n",
    "for file in os.listdir(path1):\n",
    "        #print(path1+\"/\"+file)\n",
    "        image = cv2.imread(path1+\"/\"+file,)\n",
    "        for sigma in [1,2,4,8,16]:\n",
    "            out_x = sobelx(image,sigma)\n",
    "            out_y = sobely(image,sigma)\n",
    "            out_z = laplacian(image,sigma)\n",
    "        #image=Image.open(path1+\"/\"+file)\n",
    "            scipy.misc.imsave(\"C:/5/sobel_x/\"+'sobel_x'+ str(num)+'.jpg', out_x)\n",
    "            scipy.misc.imsave(\"C:/5/sobel_y/\"+'sobel_y'+ str(num)+'.jpg', out_y)\n",
    "            scipy.misc.imsave(\"C:/5/laplacian/\"+'laplacian'+ str(num)+'.jpg', out_z)\n",
    "            num += 1"
   ]
  },
  {
   "cell_type": "code",
   "execution_count": 213,
   "metadata": {},
   "outputs": [
    {
     "name": "stderr",
     "output_type": "stream",
     "text": [
      "C:\\Users\\69654\\AppData\\Local\\Continuum\\Anaconda3\\lib\\site-packages\\skimage\\feature\\corner.py:166: UserWarning: deprecation warning: the default order of the hessian matrix values will be \"row-column\" instead of \"xy\" starting in skimage version 0.15. Use order=\"rc\" or order=\"xy\" to set this explicitly\n",
      "  warn('deprecation warning: the default order of the hessian matrix values '\n"
     ]
    }
   ],
   "source": [
    "#path1 = \"F:/23-5-2018/0/\"\n",
    "num = 0\n",
    "for file in os.listdir(path1):\n",
    "    #print(path1+\"/\"+file)\n",
    "    image = Image.open(path1+\"/\"+file).convert('L')\n",
    "    for sigma in [1,2,4,8,16]:\n",
    "        Hrr, Hrc, Hcc = hessian_matrix(image, sigma=sigma, mode = 'mirror')\n",
    "        module = ((Hrr*Hrr)+(Hrc*Hrc)+(Hcc*Hcc))**(1/2.0)\n",
    "        Trace = (Hrr+Hcc)\n",
    "        Determinant = ((Hrr*Hcc)-(Hrc*Hrc))\n",
    "        H1 = hessian_matrix_eigvals(Hrr,Hrc,Hcc)[1]\n",
    "        H0 = hessian_matrix_eigvals(Hrr,Hrc,Hcc)[0]\n",
    "        gamma = ((1**(3/4.0))**(4.0))*(((Hrr-Hcc)**(2.0)))*((4*Hrc*Hrc)+((Hrr-Hcc)**(2.0)))\n",
    "        gamma_0 = (((1**(3/4.0))**(2.0))*((4*Hrc*Hrc)+((Hrr-Hcc)**(2.0))))\n",
    "        #print(path1+\"/\"+file)\n",
    "        #image=Image.open(path1+\"/\"+file)\n",
    "        scipy.misc.imsave(\"C:/5/Hessian/\"+'Hessian_module'+ str(num)+'.jpg', module)\n",
    "        scipy.misc.imsave(\"C:/5/Hessian/\"+'Hessian_Trace'+ str(num)+'.jpg', Trace)\n",
    "        scipy.misc.imsave(\"C:/5/Hessian/\"+'Hessian_Determinant'+ str(num)+'.jpg', Determinant)\n",
    "        scipy.misc.imsave(\"C:/5/Hessian/\"+'Hessian_gamma'+ str(num)+'.jpg', gamma)\n",
    "        scipy.misc.imsave(\"C:/5/Hessian/\"+'Hessian_gamma_0'+ str(num)+'.jpg', gamma_0)\n",
    "        scipy.misc.imsave(\"C:/5/Hessian/\"+'Hessian_H0'+ str(num)+'.jpg', H0)\n",
    "        scipy.misc.imsave(\"C:/5/Hessian/\"+'Hessian_H1'+ str(num)+'.jpg', H1)\n",
    "        num += 1"
   ]
  },
  {
   "cell_type": "code",
   "execution_count": 214,
   "metadata": {},
   "outputs": [],
   "source": [
    "#path1 = \"F:/23-5-2018/0/\"\n",
    "num = 0\n",
    "for file in os.listdir(path1):\n",
    "    #print(path1+\"/\"+file)\n",
    "    image = cv2.imread(path1+\"/\"+file)\n",
    "    image = cv2.cvtColor(image, cv2.COLOR_BGR2GRAY)\n",
    "#cv2.imwrite('C:/6/gray_image.jpg',gray_image)\n",
    "    for sigma in [1,2,4,8,16]:\n",
    "        Axx, Axy, Ayy = structure_tensor(image, sigma=sigma, mode = 'mirror')\n",
    "        Hrr = Axx\n",
    "        Hcc = Ayy\n",
    "        Hrc = Axy\n",
    "        S0 = structure_tensor_eigvals(Axx, Axy, Ayy)[0]\n",
    "        S1 = structure_tensor_eigvals(Axx, Axy, Ayy)[1]\n",
    "        #print(path1+\"/\"+file)\n",
    "        #image=Image.open(path1+\"/\"+file)\n",
    "        scipy.misc.imsave(\"C:/5/Structure/\"+'structure_S0'+ str(num)+'.jpg', S0)\n",
    "        scipy.misc.imsave(\"C:/5/Structure/\"+'structure_s1'+ str(num)+'.jpg', S1)\n",
    "        num += 1"
   ]
  },
  {
   "cell_type": "code",
   "execution_count": 215,
   "metadata": {
    "collapsed": true
   },
   "outputs": [],
   "source": [
    "#path1 = \"F:/23-5-2018/0/\"\n",
    "num = 0\n",
    "for file in os.listdir(path1):\n",
    "    #print(path1+\"/\"+file)\n",
    "    original_image = scipy.misc.imread(path1+\"/\"+file)\n",
    "    img = color.rgb2gray(original_image)\n",
    "    s1 = gaussian(img,1)\n",
    "    s2 = gaussian(img,2)\n",
    "    s3 = gaussian(img,4)\n",
    "    s4 = gaussian(img,6)\n",
    "    s5 = gaussian(img,8)\n",
    "    dog_1 = (s1 - s2)\n",
    "    dog_2 = (s1 - s3)\n",
    "    dog_3 = (s1 - s4)\n",
    "    dog_4 = (s1 - s5)\n",
    "    dog_5 = (s2 - s3)\n",
    "    dog_6 = (s2 - s4)\n",
    "    dog_7 = (s2 - s5)\n",
    "    dog_8 = (s3 - s4)\n",
    "    dog_9 = (s3 - s5)\n",
    "    dog_10 = (s4 - s5)\n",
    "    scipy.misc.imsave(\"C:/5/DoG/\"+'DoG_1_'+ str(num)+'.jpg', dog_1)\n",
    "    scipy.misc.imsave(\"C:/5/DoG/\"+'DoG_2_'+ str(num)+'.jpg', dog_2)\n",
    "    scipy.misc.imsave(\"C:/5/DoG/\"+'DoG_3_'+ str(num)+'.jpg', dog_3)\n",
    "    scipy.misc.imsave(\"C:/5/DoG/\"+'DoG_4_'+ str(num)+'.jpg', dog_4)\n",
    "    scipy.misc.imsave(\"C:/5/DoG/\"+'DoG_5_'+ str(num)+'.jpg', dog_5)\n",
    "    scipy.misc.imsave(\"C:/5/DoG/\"+'DoG_6_'+ str(num)+'.jpg', dog_6)\n",
    "    scipy.misc.imsave(\"C:/5/DoG/\"+'DoG_7_'+ str(num)+'.jpg', dog_7)\n",
    "    scipy.misc.imsave(\"C:/5/DoG/\"+'DoG_8_'+ str(num)+'.jpg', dog_8)\n",
    "    scipy.misc.imsave(\"C:/5/DoG/\"+'DoG_9_'+ str(num)+'.jpg', dog_9)\n",
    "    scipy.misc.imsave(\"C:/5/DoG/\"+'DoG_10_'+ str(num)+'.jpg', dog_10)\n",
    "    num += 1"
   ]
  },
  {
   "cell_type": "code",
   "execution_count": 216,
   "metadata": {},
   "outputs": [],
   "source": [
    "#path1 = \"F:/23-5-2018/0/\"\n",
    "num = 0\n",
    "for file in os.listdir(path1):\n",
    "    #print(path1+\"/\"+file)\n",
    "    image = Image.open(path1+\"/\"+file)\n",
    "    for sigma in [1,2,4,8,16]:\n",
    "        G_blur = (image.filter(ImageFilter.GaussianBlur(radius= sigma)))\n",
    "        hsv = color.rgb2hsv(G_blur)\n",
    "        #print(path1+\"/\"+file)\n",
    "        #image=Image.open(path1+\"/\"+file)\n",
    "        scipy.misc.imsave(\"C:/5/Color/\"+'HSV_'+ str(num)+'.jpg', hsv)\n",
    "        num += 1"
   ]
  },
  {
   "cell_type": "code",
   "execution_count": 128,
   "metadata": {},
   "outputs": [],
   "source": [
    "#np.savetxt(\"C:/test/12.csv\",out, delimiter=',')"
   ]
  },
  {
   "cell_type": "code",
   "execution_count": null,
   "metadata": {
    "collapsed": true
   },
   "outputs": [],
   "source": []
  }
 ],
 "metadata": {
  "kernelspec": {
   "display_name": "Python 3",
   "language": "python",
   "name": "python3"
  },
  "language_info": {
   "codemirror_mode": {
    "name": "ipython",
    "version": 3
   },
   "file_extension": ".py",
   "mimetype": "text/x-python",
   "name": "python",
   "nbconvert_exporter": "python",
   "pygments_lexer": "ipython3",
   "version": "3.6.1"
  }
 },
 "nbformat": 4,
 "nbformat_minor": 2
}
