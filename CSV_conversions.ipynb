{
 "cells": [
  {
   "cell_type": "code",
   "execution_count": 1,
   "metadata": {
    "collapsed": true
   },
   "outputs": [],
   "source": [
    "%matplotlib inline\n",
    "from matplotlib import pyplot as plt\n",
    "import cv2\n",
    "import os\n",
    "import numpy as np\n",
    "import scipy\n",
    "from PIL import Image, ImageFilter\n",
    "from scipy import misc\n",
    "from skimage import io, color\n",
    "from skimage.filters import gaussian\n",
    "from skimage.feature import structure_tensor, structure_tensor_eigvals\n",
    "from skimage.feature import hessian_matrix,hessian_matrix_eigvals"
   ]
  },
  {
   "cell_type": "markdown",
   "metadata": {},
   "source": [
    "Image to text file conversion_ LOOP"
   ]
  },
  {
   "cell_type": "code",
   "execution_count": 2,
   "metadata": {},
   "outputs": [
    {
     "name": "stdout",
     "output_type": "stream",
     "text": [
      "F:/test/feature_images//DoG_110_0.jpg\n",
      "F:/test/feature_images//DoG_11_0.jpg\n",
      "F:/test/feature_images//DoG_12_0.jpg\n",
      "F:/test/feature_images//DoG_13_0.jpg\n",
      "F:/test/feature_images//DoG_14_0.jpg\n",
      "F:/test/feature_images//DoG_15_0.jpg\n",
      "F:/test/feature_images//DoG_16_0.jpg\n",
      "F:/test/feature_images//DoG_17_0.jpg\n",
      "F:/test/feature_images//DoG_18_0.jpg\n",
      "F:/test/feature_images//DoG_19_0.jpg\n",
      "F:/test/feature_images//Hessian_Determinant10.jpg\n",
      "F:/test/feature_images//Hessian_Determinant11.jpg\n",
      "F:/test/feature_images//Hessian_Determinant12.jpg\n",
      "F:/test/feature_images//Hessian_Determinant13.jpg\n",
      "F:/test/feature_images//Hessian_Determinant14.jpg\n",
      "F:/test/feature_images//Hessian_gamma10.jpg\n",
      "F:/test/feature_images//Hessian_gamma11.jpg\n",
      "F:/test/feature_images//Hessian_gamma12.jpg\n",
      "F:/test/feature_images//Hessian_gamma13.jpg\n",
      "F:/test/feature_images//Hessian_gamma14.jpg\n",
      "F:/test/feature_images//Hessian_gamma_100.jpg\n",
      "F:/test/feature_images//Hessian_gamma_101.jpg\n",
      "F:/test/feature_images//Hessian_gamma_102.jpg\n",
      "F:/test/feature_images//Hessian_gamma_103.jpg\n",
      "F:/test/feature_images//Hessian_gamma_104.jpg\n",
      "F:/test/feature_images//Hessian_H100.jpg\n",
      "F:/test/feature_images//Hessian_H101.jpg\n",
      "F:/test/feature_images//Hessian_H102.jpg\n",
      "F:/test/feature_images//Hessian_H103.jpg\n",
      "F:/test/feature_images//Hessian_H104.jpg\n",
      "F:/test/feature_images//Hessian_H110.jpg\n",
      "F:/test/feature_images//Hessian_H111.jpg\n",
      "F:/test/feature_images//Hessian_H112.jpg\n",
      "F:/test/feature_images//Hessian_H113.jpg\n",
      "F:/test/feature_images//Hessian_H114.jpg\n",
      "F:/test/feature_images//Hessian_module10.jpg\n",
      "F:/test/feature_images//Hessian_module11.jpg\n",
      "F:/test/feature_images//Hessian_module12.jpg\n",
      "F:/test/feature_images//Hessian_module13.jpg\n",
      "F:/test/feature_images//Hessian_module14.jpg\n",
      "F:/test/feature_images//Hessian_Trace10.jpg\n",
      "F:/test/feature_images//Hessian_Trace11.jpg\n",
      "F:/test/feature_images//Hessian_Trace12.jpg\n",
      "F:/test/feature_images//Hessian_Trace13.jpg\n",
      "F:/test/feature_images//Hessian_Trace14.jpg\n",
      "F:/test/feature_images//laplacian10.jpg\n",
      "F:/test/feature_images//laplacian11.jpg\n",
      "F:/test/feature_images//laplacian12.jpg\n",
      "F:/test/feature_images//laplacian13.jpg\n",
      "F:/test/feature_images//laplacian14.jpg\n",
      "F:/test/feature_images//sobel_x10.jpg\n",
      "F:/test/feature_images//sobel_x11.jpg\n",
      "F:/test/feature_images//sobel_x12.jpg\n",
      "F:/test/feature_images//sobel_x13.jpg\n",
      "F:/test/feature_images//sobel_x14.jpg\n",
      "F:/test/feature_images//sobel_y10.jpg\n",
      "F:/test/feature_images//sobel_y11.jpg\n",
      "F:/test/feature_images//sobel_y12.jpg\n",
      "F:/test/feature_images//sobel_y13.jpg\n",
      "F:/test/feature_images//sobel_y14.jpg\n",
      "F:/test/feature_images//structure_S100.jpg\n",
      "F:/test/feature_images//structure_S101.jpg\n",
      "F:/test/feature_images//structure_S102.jpg\n",
      "F:/test/feature_images//structure_S103.jpg\n",
      "F:/test/feature_images//structure_S104.jpg\n",
      "F:/test/feature_images//structure_s110.jpg\n",
      "F:/test/feature_images//structure_s111.jpg\n",
      "F:/test/feature_images//structure_s112.jpg\n",
      "F:/test/feature_images//structure_s113.jpg\n",
      "F:/test/feature_images//structure_s114.jpg\n"
     ]
    }
   ],
   "source": [
    "#np.savetxt(\"C:/test/12.csv\",out, delimiter=',')\n",
    "path1 = \"F:/test/feature_images/\"\n",
    "num = 0\n",
    "for file in os.listdir(path1):\n",
    "    print(path1+\"/\"+file)\n",
    "    image = Image.open(path1+\"/\"+file)\n",
    "    image = np.array(image).reshape(-1)\n",
    "    np.savetxt(\"F:/test/feature_CSV/\"+'features_'+ str(num)+'.csv',image, delimiter=',')\n",
    "    #scipy.misc.imsave(\"C:/6/\"+'HSV_'+ str(num)+'.csv', hsv)\n",
    "    num += 1"
   ]
  },
  {
   "cell_type": "markdown",
   "metadata": {},
   "source": [
    "Merge CSV files along Z-axis after reshaping(-1)"
   ]
  },
  {
   "cell_type": "code",
   "execution_count": 38,
   "metadata": {
    "collapsed": true
   },
   "outputs": [],
   "source": [
    "fout=open(\"F:/test/Merge_CSV/merge_features.csv\",\"a\")\n",
    "# first file:\n",
    "for line in open(\"F:/work_progress/2018/May/28_05_2018/train_labelled/train_0.csv\"):\n",
    "    fout.write(line)\n",
    "# now the rest:    \n",
    "for num in range(1,19):\n",
    "    f = open(\"F:/work_progress/2018/May/28_05_2018/train_labelled/train_\"+str(num)+\".csv\")\n",
    "    #f.next() # skip the header\n",
    "    for line in f:\n",
    "         fout.write(line)\n",
    "    f.close() # not really needed\n",
    "fout.close()"
   ]
  },
  {
   "cell_type": "code",
   "execution_count": 37,
   "metadata": {
    "collapsed": true
   },
   "outputs": [],
   "source": [
    "import pandas as pd\n",
    "df = pd.read_csv(\"F:/work_progress/2018/May/28_05_2018/train_not_labelled/train_19.csv\")\n",
    "df['new_column'] = '19'\n",
    "df.to_csv('F:/work_progress/2018/May/28_05_2018/train_labelled/train_19.csv')"
   ]
  },
  {
   "cell_type": "code",
   "execution_count": null,
   "metadata": {
    "collapsed": true
   },
   "outputs": [],
   "source": []
  }
 ],
 "metadata": {
  "kernelspec": {
   "display_name": "Python 2",
   "language": "python",
   "name": "python2"
  },
  "language_info": {
   "codemirror_mode": {
    "name": "ipython",
    "version": 2
   },
   "file_extension": ".py",
   "mimetype": "text/x-python",
   "name": "python",
   "nbconvert_exporter": "python",
   "pygments_lexer": "ipython2",
   "version": "2.7.13"
  }
 },
 "nbformat": 4,
 "nbformat_minor": 2
}
