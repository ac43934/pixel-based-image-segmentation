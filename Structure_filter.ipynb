{
 "cells": [
  {
   "cell_type": "code",
   "execution_count": 7,
   "metadata": {
    "collapsed": true
   },
   "outputs": [],
   "source": [
    "from skimage.feature import structure_tensor,structure_tensor_eigvals\n",
    "from PIL import Image\n",
    "import numpy as np"
   ]
  },
  {
   "cell_type": "code",
   "execution_count": 8,
   "metadata": {},
   "outputs": [],
   "source": [
    "image = Image.open('C:/test/0.jpg')\n",
    "y= np.asarray(image,dtype=np.float64).reshape(-1,3)\n",
    "Axx, Axy, Ayy = structure_tensor(y, sigma=25)\n",
    "Hrr = Axx\n",
    "Hcc = Ayy\n",
    "Hrc = Axy\n",
    "S0 = structure_tensor_eigvals(Axx, Axy, Ayy)[0]\n",
    "S1= structure_tensor_eigvals(Axx, Axy, Ayy)[1]"
   ]
  },
  {
   "cell_type": "code",
   "execution_count": 20,
   "metadata": {},
   "outputs": [
    {
     "name": "stdout",
     "output_type": "stream",
     "text": [
      "[[ 342.79990869  342.99599512  342.64395759]\n",
      " [ 343.54203541  343.73883748  343.3863291 ]\n",
      " [ 343.78395014  343.98119049  343.62873369]\n",
      " ..., \n",
      " [ 462.7281054   463.04161164  462.61514727]\n",
      " [ 463.59655102  463.91057379  463.48323651]\n",
      " [ 463.73701953  464.05106685  463.62352879]]\n"
     ]
    }
   ],
   "source": [
    "#print (S1)"
   ]
  },
  {
   "cell_type": "code",
   "execution_count": 9,
   "metadata": {
    "collapsed": true
   },
   "outputs": [],
   "source": [
    "module = ((Hrr*Hrr)+(Hrc*Hrc)+(Hcc*Hcc))**(1/2.0)"
   ]
  },
  {
   "cell_type": "code",
   "execution_count": 10,
   "metadata": {
    "collapsed": true
   },
   "outputs": [],
   "source": [
    "Trace = (Hrr+Hcc)"
   ]
  },
  {
   "cell_type": "code",
   "execution_count": 11,
   "metadata": {
    "collapsed": true
   },
   "outputs": [],
   "source": [
    "Determinant = ((Hrr*Hcc)-(Hrc*Hrc))"
   ]
  },
  {
   "cell_type": "code",
   "execution_count": 12,
   "metadata": {},
   "outputs": [
    {
     "name": "stderr",
     "output_type": "stream",
     "text": [
      "C:\\Users\\69654\\AppData\\Local\\Continuum\\Anaconda2\\lib\\site-packages\\ipykernel_launcher.py:2: RuntimeWarning: invalid value encountered in arccos\n",
      "  \n"
     ]
    }
   ],
   "source": [
    "t = ((4*Hrc*Hrc)+((Hrr-Hcc)**(2.0)))\n",
    "Orientation = ((np.arccos(t))/2)"
   ]
  },
  {
   "cell_type": "code",
   "execution_count": 21,
   "metadata": {
    "collapsed": true
   },
   "outputs": [],
   "source": [
    "j= ((2*Hrc)/(Hcc-Hrr))\n",
    "jj= ((np.arctan(j))/2)\n",
    "J= np.degrees (jj)"
   ]
  },
  {
   "cell_type": "code",
   "execution_count": 13,
   "metadata": {
    "collapsed": true
   },
   "outputs": [],
   "source": [
    "gamma = ((1**(3/4.0))**(4.0))*(((Hrr-Hcc)**(2.0)))*((4*Hrc*Hrc)+((Hrr-Hcc)**(2.0)))"
   ]
  },
  {
   "cell_type": "code",
   "execution_count": 14,
   "metadata": {
    "collapsed": true
   },
   "outputs": [],
   "source": [
    "gamma_0 = (((1**(3/4.0))**(2.0))*((4*Hrc*Hrc)+((Hrr-Hcc)**(2.0))))"
   ]
  }
 ],
 "metadata": {
  "kernelspec": {
   "display_name": "Python 2",
   "language": "python",
   "name": "python2"
  },
  "language_info": {
   "codemirror_mode": {
    "name": "ipython",
    "version": 2
   },
   "file_extension": ".py",
   "mimetype": "text/x-python",
   "name": "python",
   "nbconvert_exporter": "python",
   "pygments_lexer": "ipython2",
   "version": "2.7.13"
  }
 },
 "nbformat": 4,
 "nbformat_minor": 2
}
