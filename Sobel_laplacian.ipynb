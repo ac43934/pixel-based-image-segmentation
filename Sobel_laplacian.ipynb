{
 "cells": [
  {
   "cell_type": "code",
   "execution_count": 1,
   "metadata": {
    "collapsed": true
   },
   "outputs": [],
   "source": [
    "import cv2\n",
    "import numpy as np\n",
    "from matplotlib import pyplot as plt\n",
    "def sobelx(path):\n",
    "# loading image\n",
    "    img0 = cv2.imread(path,)\n",
    "# converting to gray scale\n",
    "    img = cv2.cvtColor(img0, cv2.COLOR_BGR2GRAY)\n",
    "    sobelx = cv2.Sobel(img,cv2.CV_64F,1,0,ksize=5)  # x# y\n",
    "    return sobelx\n",
    "def sobely(path):\n",
    "# loading image\n",
    "#img0 = cv2.imread('SanFrancisco.jpg',)\n",
    "# converting to gray scale\n",
    "    img0 = cv2.imread(path,)\n",
    "# converting to gray scale\n",
    "    img = cv2.cvtColor(img0, cv2.COLOR_BGR2GRAY)\n",
    "    sobely = cv2.Sobel(img,cv2.CV_64F,0,1,ksize=5)  # y\n",
    "    return sobely\n",
    "def laplacian(path):\n",
    "# loading image\n",
    "#img0 = cv2.imread('SanFrancisco.jpg',)\n",
    "# converting to gray scale\n",
    "    img0 = cv2.imread(path,)\n",
    "# converting to gray scale\n",
    "    img = cv2.cvtColor(img0, cv2.COLOR_BGR2GRAY)\n",
    "    laplacian = cv2.Laplacian(img,cv2.CV_64F)\n",
    "    return laplacian"
   ]
  },
  {
   "cell_type": "code",
   "execution_count": 2,
   "metadata": {
    "collapsed": true
   },
   "outputs": [],
   "source": [
    "#loading image\n",
    "img0 = cv2.imread('C:/test/0.jpg',)\n",
    "# converting to gray scale\n",
    "# converting to gray scale\n",
    "img = cv2.cvtColor(img0, cv2.COLOR_BGR2GRAY)\n",
    "laplacian = cv2.Laplacian(img,cv2.CV_64F)"
   ]
  },
  {
   "cell_type": "code",
   "execution_count": 3,
   "metadata": {},
   "outputs": [
    {
     "name": "stdout",
     "output_type": "stream",
     "text": [
      "[[ 20.   2.  25. ...,   2.   2.  -4.]\n",
      " [  9. -12.  18. ...,   3.   2.   1.]\n",
      " [  2.  -9.  15. ...,   0.   0.   0.]\n",
      " ..., \n",
      " [  0.   0.   0. ...,  -3.  -2.  11.]\n",
      " [  0.   0.   0. ...,  -5.   0.  13.]\n",
      " [  0.   0.   0. ...,  -5.  -4.  20.]]\n"
     ]
    }
   ],
   "source": [
    "print (laplacian)"
   ]
  },
  {
   "cell_type": "code",
   "execution_count": null,
   "metadata": {
    "collapsed": true
   },
   "outputs": [],
   "source": []
  },
  {
   "cell_type": "code",
   "execution_count": null,
   "metadata": {
    "collapsed": true
   },
   "outputs": [],
   "source": [
    "import numpy\n",
    "import scipy\n",
    "from scipy import ndimage\n",
    "\n",
    "im = scipy.misc.imread('C:/segmented/01.jpg')\n",
    "im = im.astype('int32')\n",
    "dx = ndimage.sobel(im, 0)  # horizontal derivative\n",
    "dy = ndimage.sobel(im, 1)  # vertical derivative\n",
    "mag = numpy.hypot(dx, dy)  # magnitude\n",
    "mag *= 255.0 / numpy.max(mag)  # normalize (Q&D)\n",
    "scipy.misc.imsave('C:/segmented/sobel.jpg', mag)"
   ]
  }
 ],
 "metadata": {
  "kernelspec": {
   "display_name": "Python 2",
   "language": "python",
   "name": "python2"
  },
  "language_info": {
   "codemirror_mode": {
    "name": "ipython",
    "version": 2
   },
   "file_extension": ".py",
   "mimetype": "text/x-python",
   "name": "python",
   "nbconvert_exporter": "python",
   "pygments_lexer": "ipython2",
   "version": "2.7.13"
  }
 },
 "nbformat": 4,
 "nbformat_minor": 2
}
